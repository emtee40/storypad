{
 "cells": [
  {
   "cell_type": "code",
   "execution_count": 1,
   "metadata": {
    "collapsed": true
   },
   "outputs": [],
   "source": [
    "import json\n",
    "import itertools\n",
    "import collections\n",
    "import numpy as np\n",
    "\n",
    "import sys\n",
    "sys.path.append('../')\n",
    "from const import NEW_THEME\n",
    "\n",
    "FILE = '../new_comic_dict.json'\n",
    "with open(FILE, 'r') as fp:\n",
    "    data = json.load(fp)"
   ]
  },
  {
   "cell_type": "code",
   "execution_count": 12,
   "metadata": {
    "collapsed": false
   },
   "outputs": [],
   "source": [
    "cvt1 = {t: i for i, t in enumerate(NEW_THEME)}\n",
    "cvt2 = {c: i for i, c in enumerate(itertools.combinations(NEW_THEME, 2))}\n",
    "\n",
    "node = np.zeros(len(cvt1))\n",
    "edge = np.zeros(len(cvt2))\n",
    "\n",
    "for title in data:\n",
    "    for th in data[title]['new_theme']:\n",
    "        node[cvt1[th]] += 1\n",
    "    for thc in itertools.combinations(sorted(data[title]['new_theme']), 2):\n",
    "        edge[cvt2[thc]] += 1\n",
    "        \n",
    "n = []\n",
    "for i, th in enumerate(NEW_THEME):\n",
    "    id = i + 1\n",
    "    n.append({\n",
    "            'theme_id': id,\n",
    "            'theme_name': th,\n",
    "            'count': node[i],\n",
    "            'ratio': node[i] / node.sum()\n",
    "        })\n",
    "    \n",
    "e = []\n",
    "for i, thc in enumerate(itertools.combinations(NEW_THEME, 2)):\n",
    "    id = i + 1\n",
    "    thc = [cvt1[th] + 1 for th in thc]\n",
    "    e.append({\n",
    "            'id': id,\n",
    "            'combination': thc,\n",
    "            'count': edge[i],\n",
    "            'ratio': edge[i] / edge.sum()\n",
    "        })\n",
    "\n"
   ]
  },
  {
   "cell_type": "code",
   "execution_count": null,
   "metadata": {
    "collapsed": true
   },
   "outputs": [],
   "source": []
  }
 ],
 "metadata": {
  "anaconda-cloud": {},
  "kernelspec": {
   "display_name": "Python [Root]",
   "language": "python",
   "name": "Python [Root]"
  },
  "language_info": {
   "codemirror_mode": {
    "name": "ipython",
    "version": 3
   },
   "file_extension": ".py",
   "mimetype": "text/x-python",
   "name": "python",
   "nbconvert_exporter": "python",
   "pygments_lexer": "ipython3",
   "version": "3.5.2"
  }
 },
 "nbformat": 4,
 "nbformat_minor": 0
}
